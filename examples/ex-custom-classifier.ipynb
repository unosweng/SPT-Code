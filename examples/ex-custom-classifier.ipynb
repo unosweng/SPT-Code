{
 "cells": [
  {
   "cell_type": "code",
   "execution_count": 1,
   "metadata": {},
   "outputs": [
    {
     "name": "stdout",
     "output_type": "stream",
     "text": [
      "Tweets are loaded. Total # of tweets: 7613.\n",
      "# of labels:\n",
      "target\n",
      "0    4342\n",
      "1    3271\n",
      "Name: count, dtype: int64\n",
      "The number of tweeets which appear multiple times: 19\n",
      "Tweets which have inconsistent labeling:\n",
      "\n",
      "To fight bioterrorism sir.\n",
      "[1, 0, 1, 0]\n",
      ".POTUS #StrategicPatience is a strategy for #Genocide; refugees; IDP Internally displaced people; horror; etc. https://t.co/rqWuoy1fm4\n",
      "[1, 1, 0, 1]\n",
      "He came to a land which was engulfed in tribal war and turned it into a land of peace i.e. Madinah. #ProphetMuhammad #islam\n",
      "[0, 1, 1, 0, 0, 0]\n",
      "Who is bringing the tornadoes and floods. Who is bringing the climate change. God is after America He is plaguing her\n",
      " \n",
      "#FARRAKHAN #QUOTE\n",
      "[1, 0, 0]\n",
      "#foodscare #offers2go #NestleIndia slips into loss after #Magginoodle #ban unsafe and hazardous for #humanconsumption\n",
      "[1, 1, 0]\n",
      "The Prophet (peace be upon him) said 'Save yourself from Hellfire even if it is by giving half a date in charity.'\n",
      "[0, 0, 1, 0, 0, 1]\n",
      "Hellfire is surrounded by desires so be careful and donÛªt let your desires control you! #Afterlife\n",
      "[0, 1, 0]\n",
      "#Allah describes piling up #wealth thinking it would last #forever as the description of the people of #Hellfire in Surah Humaza. #Reflect\n",
      "[0, 0, 1]\n",
      "CLEARED:incident with injury:I-495  inner loop Exit 31 - MD 97/Georgia Ave Silver Spring\n",
      "[1, 1, 0]\n",
      "that horrible sinking feeling when youÛªve been at home on your phone for a while and you realise its been on 3G this whole time\n",
      "[1, 0, 0, 1]\n"
     ]
    }
   ],
   "source": [
    "\"\"\"\n",
    "Hugging Face BERT with custom classifier (PyTorch)\n",
    "\n",
    "https://www.kaggle.com/code/angyalfold/hugging-face-bert-with-custom-classifier-pytorch/notebook\n",
    "\"\"\"\n",
    "\n",
    "import pandas as pd\n",
    "from sklearn.model_selection import train_test_split\n",
    "\n",
    "train_csv_path = './train.csv'\n",
    "train_df = pd.read_csv(train_csv_path)\n",
    "\n",
    "all_texts = train_df['text'].values.tolist()\n",
    "all_labels = train_df['target'].values.tolist()\n",
    "\n",
    "print(\"Tweets are loaded. Total # of tweets: {}.\".format(len(all_texts)))\n",
    "print(\"# of labels:\")\n",
    "print(train_df['target'].value_counts())\n",
    "\n",
    "# As it turns out there are couple of tweets which occurs multiple times. Among those there are some whose labels aren't consistent throughout the occurrences.\n",
    "\n",
    "frequent_tweets = {}\n",
    "for t, l in zip(all_texts, all_labels):\n",
    "    if all_texts.count(t) > 2:\n",
    "        frequent_tweets[t] = [l] if t not in frequent_tweets else frequent_tweets[t] + [l]\n",
    "        \n",
    "print(\"The number of tweeets which appear multiple times: {}\"\n",
    "      .format(len(frequent_tweets.keys())))     \n",
    "\n",
    "print(\"Tweets which have inconsistent labeling:\")\n",
    "print()\n",
    "\n",
    "for t, ls in frequent_tweets.items():\n",
    "    if not all(element == ls[0] for element in ls):\n",
    "        print(t)\n",
    "        print(ls)\n",
    "\n",
    "# The amount of tweets with inconsistent labeling seems reasonably low so they can be fixed by hand. (Note: One could argue that deleting tweets with inconsistent labeling would be a better practice because modifing the input like that is an overreach, but for the sake of the example I go with releballing.)"
   ]
  },
  {
   "cell_type": "code",
   "execution_count": 2,
   "metadata": {},
   "outputs": [
    {
     "name": "stdout",
     "output_type": "stream",
     "text": [
      "Relabeled 10 tweets in total\n"
     ]
    }
   ],
   "source": [
    "should_be_real = [\".POTUS #StrategicPatience is a strategy for #Genocide; refugees; IDP Internally displaced people; horror; etc. https://t.co/rqWuoy1fm4\",\n",
    "                 \"#foodscare #offers2go #NestleIndia slips into loss after #Magginoodle #ban unsafe and hazardous for #humanconsumption\",\n",
    "                 \"CLEARED:incident with injury:I-495  inner loop Exit 31 - MD 97/Georgia Ave Silver Spring\"]\n",
    "\n",
    "should_not_be_real = [\"He came to a land which was engulfed in tribal war and turned it into a land of peace i.e. Madinah. #ProphetMuhammad #islam\",\n",
    "                     \"Who is bringing the tornadoes and floods. Who is bringing the climate change. God is after America He is plaguing her\",\n",
    "                      \"The Prophet (peace be upon him) said 'Save yourself from Hellfire even if it is by giving half a date in charity.'\",\n",
    "                     \"Hellfire is surrounded by desires so be careful and donÛªt let your desires control you! #Afterlife\",\n",
    "                     \"#Allah describes piling up #wealth thinking it would last #forever as the description of the people of #Hellfire in Surah Humaza. #Reflect\",\n",
    "                     \"that horrible sinking feeling when youÛªve been at home on your phone for a while and you realise its been on 3G this whole time\",\n",
    "                     \"To fight bioterrorism sir.\"]\n",
    "\n",
    "\n",
    "def fix_labels(tweets_to_fix, correct_label):\n",
    "    for i, (tweet, label) in enumerate(zip(all_texts, all_labels)):\n",
    "        if any(tweet.startswith(t) for t in tweets_to_fix):\n",
    "            all_labels[i] = correct_label\n",
    "\n",
    "        \n",
    "fix_labels(should_be_real, 1)\n",
    "fix_labels(should_not_be_real, 0)\n",
    "\n",
    "print(\"Relabeled {} tweets in total\".format(len(should_be_real) + len(should_not_be_real)))"
   ]
  },
  {
   "cell_type": "code",
   "execution_count": 3,
   "metadata": {},
   "outputs": [
    {
     "name": "stdout",
     "output_type": "stream",
     "text": [
      "Train data is read and split into training and validation sets.\n",
      "Size of train data (# of entries): 5709\n",
      "Size of validation data (# of entries): 1904\n"
     ]
    }
   ],
   "source": [
    "train_texts, val_texts, train_labels, val_labels = train_test_split(\n",
    "    all_texts, all_labels,\n",
    "    stratify = train_df['target']\n",
    ")\n",
    "\n",
    "print('Train data is read and split into training and validation sets.')\n",
    "print('Size of train data (# of entries): {}'.format(len(train_texts)))\n",
    "print('Size of validation data (# of entries): {}'.format(len(val_texts)))"
   ]
  },
  {
   "cell_type": "code",
   "execution_count": 4,
   "metadata": {},
   "outputs": [
    {
     "name": "stdout",
     "output_type": "stream",
     "text": [
      "Train tweets cleaned.\n",
      "Validation tweets cleaned.\n"
     ]
    }
   ],
   "source": [
    "# Data cleaning\n",
    "\n",
    "\"\"\"\n",
    "The most obvious step to take is to remove URLs as they are most likely just noise.\n",
    "\n",
    "An additional consideration to take into account is that Hugging Face's tokenizer employs subword tokenization as detailed in their summary here. It essentialy means that if the tokenizer encounters a word which is unknown to it the word gets splitted into multiple tokens. Each new token gets the '##' prefix. For example: \"annoyingly\" becomes \"annoying\" + \"##ly\". Now it is easy to figure out which words are unknown to the model (just by searching for the '##' prefix) and thus gain ideas what sort of cleaning might worth implementing.\n",
    "\n",
    "In this implementation URLs, @ links, non ascii characters are completely removed, the negation of some of the auxiliary verbs are fixed (eg.: shouldnt -> should not) and some of the personal pronouns (eg.: im -> i am)\n",
    "\"\"\"\n",
    "\n",
    "from ex_custom_classifier_helper import clean_tweet \n",
    "\n",
    "\n",
    "cleaned_train_texts = [clean_tweet(tweet) for tweet in train_texts]\n",
    "print(\"Train tweets cleaned.\")\n",
    "cleaned_val_texts = [clean_tweet(tweet) for tweet in val_texts]\n",
    "print(\"Validation tweets cleaned.\")"
   ]
  },
  {
   "cell_type": "code",
   "execution_count": 6,
   "metadata": {},
   "outputs": [
    {
     "name": "stdout",
     "output_type": "stream",
     "text": [
      "Train & validation texts encoded\n"
     ]
    }
   ],
   "source": [
    "from transformers import AutoTokenizer\n",
    "\n",
    "model_name = 'bert-base-cased'\n",
    "tokenizer = AutoTokenizer.from_pretrained(model_name)\n",
    "\n",
    "# The tokenizer's truncation=True setting ensures that the sequence of tokens is truncated if the sequence is longer than the maximal input length acceptable by the model. padding=True ensures that each sentence is padded to the longest sentence of the batch.\n",
    "train_encodings = tokenizer(cleaned_train_texts, truncation=True, padding=True)\n",
    "val_encodings = tokenizer(cleaned_val_texts, truncation=True, padding=True)\n",
    "print('Train & validation texts encoded')"
   ]
  },
  {
   "cell_type": "code",
   "execution_count": 8,
   "metadata": {},
   "outputs": [
    {
     "name": "stdout",
     "output_type": "stream",
     "text": [
      "\n",
      "    Class to store the tweet data as PyTorch Dataset\n",
      "    \n"
     ]
    }
   ],
   "source": [
    "# Custom dataset\n",
    "\n",
    "\"\"\"\n",
    "PyTorch uses datasets and dataloaders to handle data (see their introductionary tutorial here https://pytorch.org/tutorials/beginner/basics/data_tutorial.html). It means that in order to make the handling of tweets straightforward a custom dataset has to be defined. (Named TweetDataset in this code)\n",
    "\n",
    "A dataset is a data structure which makes it easy to iterate through the data in training and testing loops, therefore it needs to implement three methods of its base class (which is torch.utils.data.Dataset): __init__ (to initialize the dataset with the data), __len__ (to get the number of items in the dataset) and __getitem__ (to return the ith element of the dataset).\n",
    "\"\"\"\n",
    "import torch\n",
    "\n",
    "class TweetDataset(torch.utils.data.Dataset):\n",
    "    \"\"\"\n",
    "    Class to store the tweet data as PyTorch Dataset\n",
    "    \"\"\"\n",
    "    \n",
    "    def __init__(self, encodings, labels):\n",
    "        self.encodings = encodings\n",
    "        self.labels = labels\n",
    "        \n",
    "    def __getitem__(self, idx):\n",
    "        # an encoding can have keys such as input_ids and attention_mask\n",
    "        # item is a dictionary which has the same keys as the encoding has\n",
    "        # and the values are the idxth value of the corresponding key (in PyTorch's tensor format)\n",
    "        item = {key: torch.tensor(val[idx]) for key, val in self.encodings.items()}\n",
    "        item['labels'] = torch.tensor(self.labels[idx])\n",
    "        return item\n",
    "    \n",
    "    def __len__(self):\n",
    "        return len(self.labels)\n",
    "        \n",
    "print(TweetDataset.__doc__)"
   ]
  },
  {
   "cell_type": "code",
   "execution_count": 9,
   "metadata": {},
   "outputs": [
    {
     "name": "stdout",
     "output_type": "stream",
     "text": [
      "Device used: cuda.\n"
     ]
    }
   ],
   "source": [
    "# Custom model\n",
    "\n",
    "\"\"\"\n",
    "A pre-trained BERT model with custom classifier. \n",
    "\n",
    "The custom model consists of a pre-trained BERT model (a model which holds a semantical representation of English) and on the top of the BERT model there is a custom neural network which is trained to the specific task (tweet classification in this case). Therefore, it seems to be reasonable to have freeze_bert and unfreeze_bert methods apart from the mandatory __init__ and forward. Having this two additional methods makes it possible to sort of train the underlying BERT model and the custom classifier separately. (So train BERT and the custom head together, freeze BERT and then train the custom head on the classification task based on the previously trained BERT). The idea of freezing & unfreezing was taken from Milan Kalkenings' notebook.\n",
    "\"\"\"\n",
    "# device (turn on GPU acceleration for faster execution)\n",
    "device = torch.device('cuda') if torch.cuda.is_available() else torch.device('cpu')\n",
    "print(\"Device used: {}.\".format(device))"
   ]
  },
  {
   "cell_type": "code",
   "execution_count": 10,
   "metadata": {},
   "outputs": [
    {
     "name": "stdout",
     "output_type": "stream",
     "text": [
      "\n",
      "    A pre-trained BERT model with a custom classifier.\n",
      "    The classifier is a neural network implemented in this class.\n",
      "    \n"
     ]
    }
   ],
   "source": [
    "from torch import nn\n",
    "from transformers import BertModel\n",
    "\n",
    "in_features = 768 # it's 768 because that's the size of the output provided by the underlying BERT model\n",
    "\n",
    "class BertWithCustomNNClassifier(nn.Module):\n",
    "    \"\"\"\n",
    "    A pre-trained BERT model with a custom classifier.\n",
    "    The classifier is a neural network implemented in this class.\n",
    "    \"\"\"\n",
    "    \n",
    "    def __init__(self, linear_size):\n",
    "        super(BertWithCustomNNClassifier, self).__init__()\n",
    "        self.bert = BertModel.from_pretrained(model_name)\n",
    "        self.dropout1 = nn.Dropout()\n",
    "        self.linear1 = nn.Linear(in_features=in_features, out_features=linear_size)\n",
    "        self.batch_norm1 = nn.BatchNorm1d(num_features=linear_size)\n",
    "        self.dropout2 = nn.Dropout(p=0.8)\n",
    "        self.linear2 = nn.Linear(in_features=linear_size, out_features=1)\n",
    "        self.batch_norm2 = nn.BatchNorm1d(num_features=1)\n",
    "        self.sigmoid = nn.Sigmoid()\n",
    "        \n",
    "    def forward(self, tokens, attention_mask):\n",
    "        bert_output = self.bert(input_ids=tokens, attention_mask=attention_mask)\n",
    "        x = self.dropout1(bert_output[1])\n",
    "        x = self.linear1(x)\n",
    "        x = self.dropout2(x)\n",
    "        x = self.batch_norm1(x)\n",
    "        x = self.linear2(x)\n",
    "        x = self.batch_norm2(x)\n",
    "        return self.sigmoid(x)\n",
    "        \n",
    "    def freeze_bert(self):\n",
    "        \"\"\"\n",
    "        Freezes the parameters of BERT so when BertWithCustomNNClassifier is trained\n",
    "        only the wieghts of the custom classifier are modified.\n",
    "        \"\"\"\n",
    "        for param in self.bert.named_parameters():\n",
    "            param[1].requires_grad=False\n",
    "    \n",
    "    def unfreeze_bert(self):\n",
    "        \"\"\"\n",
    "        Unfreezes the parameters of BERT so when BertWithCustomNNClassifier is trained\n",
    "        both the wieghts of the custom classifier and of the underlying BERT are modified.\n",
    "        \"\"\"\n",
    "        for param in self.bert.named_parameters():\n",
    "            param[1].requires_grad=True\n",
    "\n",
    "            \n",
    "print(BertWithCustomNNClassifier.__doc__)"
   ]
  },
  {
   "cell_type": "code",
   "execution_count": 11,
   "metadata": {},
   "outputs": [
    {
     "name": "stdout",
     "output_type": "stream",
     "text": [
      "Return batches of accuracy and f1 scores.\n"
     ]
    }
   ],
   "source": [
    "import numpy as np\n",
    "from sklearn.metrics import f1_score, accuracy_score\n",
    "\n",
    "def eval_prediction(y_batch_actual, y_batch_predicted):\n",
    "    \"\"\"Return batches of accuracy and f1 scores.\"\"\"\n",
    "    y_batch_actual_np = y_batch_actual.cpu().detach().numpy()\n",
    "    y_batch_predicted_np = np.round(y_batch_predicted.cpu().detach().numpy())\n",
    "    \n",
    "    acc = accuracy_score(y_true=y_batch_actual_np, y_pred=y_batch_predicted_np)\n",
    "    f1 = f1_score(y_true=y_batch_actual_np, y_pred=y_batch_predicted_np, average='weighted')\n",
    "    \n",
    "    return acc, f1\n",
    "\n",
    "print(eval_prediction.__doc__)"
   ]
  },
  {
   "cell_type": "code",
   "execution_count": 13,
   "metadata": {},
   "outputs": [
    {
     "name": "stdout",
     "output_type": "stream",
     "text": [
      "Epochs: 1\n",
      "Learning rate: 0.000027\n",
      "Batch size: 16\n",
      "The number of hidden layers in the custom head: 8\n"
     ]
    }
   ],
   "source": [
    "# parameters\n",
    "num_of_epochs = 1\n",
    "learning_rate = 27e-6\n",
    "batch_size = 16\n",
    "hidden_layers = 8\n",
    "\n",
    "print(\"Epochs: {}\".format(num_of_epochs))\n",
    "print(\"Learning rate: {:.6f}\".format(learning_rate))\n",
    "print(\"Batch size: {}\".format(batch_size))\n",
    "print(\"The number of hidden layers in the custom head: {}\".format(hidden_layers))"
   ]
  },
  {
   "cell_type": "code",
   "execution_count": 14,
   "metadata": {},
   "outputs": [
    {
     "data": {
      "application/vnd.jupyter.widget-view+json": {
       "model_id": "f274b3a688f34bd0b20dd9cd9baeb576",
       "version_major": 2,
       "version_minor": 0
      },
      "text/plain": [
       "Downloading model.safetensors:   0%|          | 0.00/436M [00:00<?, ?B/s]"
      ]
     },
     "metadata": {},
     "output_type": "display_data"
    },
    {
     "data": {
      "text/plain": [
       "BertWithCustomNNClassifier(\n",
       "  (bert): BertModel(\n",
       "    (embeddings): BertEmbeddings(\n",
       "      (word_embeddings): Embedding(28996, 768, padding_idx=0)\n",
       "      (position_embeddings): Embedding(512, 768)\n",
       "      (token_type_embeddings): Embedding(2, 768)\n",
       "      (LayerNorm): LayerNorm((768,), eps=1e-12, elementwise_affine=True)\n",
       "      (dropout): Dropout(p=0.1, inplace=False)\n",
       "    )\n",
       "    (encoder): BertEncoder(\n",
       "      (layer): ModuleList(\n",
       "        (0-11): 12 x BertLayer(\n",
       "          (attention): BertAttention(\n",
       "            (self): BertSelfAttention(\n",
       "              (query): Linear(in_features=768, out_features=768, bias=True)\n",
       "              (key): Linear(in_features=768, out_features=768, bias=True)\n",
       "              (value): Linear(in_features=768, out_features=768, bias=True)\n",
       "              (dropout): Dropout(p=0.1, inplace=False)\n",
       "            )\n",
       "            (output): BertSelfOutput(\n",
       "              (dense): Linear(in_features=768, out_features=768, bias=True)\n",
       "              (LayerNorm): LayerNorm((768,), eps=1e-12, elementwise_affine=True)\n",
       "              (dropout): Dropout(p=0.1, inplace=False)\n",
       "            )\n",
       "          )\n",
       "          (intermediate): BertIntermediate(\n",
       "            (dense): Linear(in_features=768, out_features=3072, bias=True)\n",
       "            (intermediate_act_fn): GELUActivation()\n",
       "          )\n",
       "          (output): BertOutput(\n",
       "            (dense): Linear(in_features=3072, out_features=768, bias=True)\n",
       "            (LayerNorm): LayerNorm((768,), eps=1e-12, elementwise_affine=True)\n",
       "            (dropout): Dropout(p=0.1, inplace=False)\n",
       "          )\n",
       "        )\n",
       "      )\n",
       "    )\n",
       "    (pooler): BertPooler(\n",
       "      (dense): Linear(in_features=768, out_features=768, bias=True)\n",
       "      (activation): Tanh()\n",
       "    )\n",
       "  )\n",
       "  (dropout1): Dropout(p=0.5, inplace=False)\n",
       "  (linear1): Linear(in_features=768, out_features=8, bias=True)\n",
       "  (batch_norm1): BatchNorm1d(8, eps=1e-05, momentum=0.1, affine=True, track_running_stats=True)\n",
       "  (dropout2): Dropout(p=0.8, inplace=False)\n",
       "  (linear2): Linear(in_features=8, out_features=1, bias=True)\n",
       "  (batch_norm2): BatchNorm1d(1, eps=1e-05, momentum=0.1, affine=True, track_running_stats=True)\n",
       "  (sigmoid): Sigmoid()\n",
       ")"
      ]
     },
     "execution_count": 14,
     "metadata": {},
     "output_type": "execute_result"
    }
   ],
   "source": [
    "model = BertWithCustomNNClassifier(linear_size=hidden_layers)\n",
    "model.to(device)"
   ]
  },
  {
   "cell_type": "code",
   "execution_count": 17,
   "metadata": {},
   "outputs": [
    {
     "name": "stdout",
     "output_type": "stream",
     "text": [
      "Initialized optimizer.\n",
      "Initialized loss function.\n",
      "Created train & val datasets.\n"
     ]
    }
   ],
   "source": [
    "from transformers import AdamW\n",
    "\n",
    "# optimizer\n",
    "optimizer = AdamW(model.parameters(), lr=learning_rate)\n",
    "print('Initialized optimizer.')\n",
    "\n",
    "# loss function\n",
    "loss_fn = nn.BCELoss()\n",
    "print('Initialized loss function.')\n",
    "\n",
    "from torch.utils.data import DataLoader\n",
    "\n",
    "# Dataset & dataloader\n",
    "train_dataset = TweetDataset(train_encodings, train_labels)\n",
    "val_dataset = TweetDataset(val_encodings, val_labels)\n",
    "train_loader = DataLoader(train_dataset, batch_size=batch_size, shuffle=True)\n",
    "val_loader = DataLoader(val_dataset, batch_size=batch_size, shuffle=True)\n",
    "print('Created train & val datasets.')"
   ]
  },
  {
   "cell_type": "code",
   "execution_count": 18,
   "metadata": {},
   "outputs": [
    {
     "name": "stdout",
     "output_type": "stream",
     "text": [
      "Method to train the model\n"
     ]
    }
   ],
   "source": [
    "def training_step(dataloader, model, optimizer, loss_fn, if_freeze_bert):\n",
    "    \"\"\"Method to train the model\"\"\"\n",
    "    \n",
    "    model.train()\n",
    "    model.freeze_bert() if if_freeze_bert else model.unfreeze_bert()\n",
    "      \n",
    "    epoch_loss = 0\n",
    "    size = len(dataloader.dataset)\n",
    " \n",
    "    for i, batch in enumerate(dataloader):        \n",
    "        input_ids = batch['input_ids'].to(device)\n",
    "        attention_mask = batch['attention_mask'].to(device)\n",
    "        labels = batch['labels'].to(device)\n",
    "    \n",
    "        outputs = torch.flatten(model(tokens=input_ids, attention_mask=attention_mask))\n",
    "                        \n",
    "        optimizer.zero_grad()\n",
    "        loss = loss_fn(outputs, labels.float())\n",
    "        epoch_loss += loss.item()\n",
    "        loss.backward()\n",
    "        optimizer.step()\n",
    "\n",
    "            \n",
    "print(training_step.__doc__)"
   ]
  },
  {
   "cell_type": "code",
   "execution_count": 19,
   "metadata": {},
   "outputs": [
    {
     "name": "stdout",
     "output_type": "stream",
     "text": [
      "Method to test the model's accuracy and loss on the validation set\n"
     ]
    }
   ],
   "source": [
    "def validation_step(dataloader, model, loss_fn):\n",
    "    \"\"\"Method to test the model's accuracy and loss on the validation set\"\"\"\n",
    "    \n",
    "    model.eval()\n",
    "    model.freeze_bert()\n",
    "    \n",
    "    size = len(dataloader)\n",
    "    f1, acc = 0, 0\n",
    "    \n",
    "    with torch.no_grad():\n",
    "        for batch in dataloader:\n",
    "            X = batch['input_ids'].to(device)\n",
    "            attention_mask = batch['attention_mask'].to(device)\n",
    "            y = batch['labels'].to(device)\n",
    "                  \n",
    "            pred = model(tokens=X, attention_mask=attention_mask)\n",
    "            \n",
    "            acc_batch, f1_batch = eval_prediction(y.float(), pred)                        \n",
    "            acc += acc_batch\n",
    "            f1 += f1_batch\n",
    "\n",
    "        acc = acc/size\n",
    "        f1 = f1/size\n",
    "                \n",
    "    return acc, f1\n",
    "        \n",
    "print(validation_step.__doc__)"
   ]
  },
  {
   "cell_type": "code",
   "execution_count": 20,
   "metadata": {},
   "outputs": [
    {
     "data": {
      "application/vnd.jupyter.widget-view+json": {
       "model_id": "dee8b3e55da14d3eb9d0cee9842d8dce",
       "version_major": 2,
       "version_minor": 0
      },
      "text/plain": [
       "  0%|          | 0/1 [00:00<?, ?it/s]"
      ]
     },
     "metadata": {},
     "output_type": "display_data"
    },
    {
     "name": "stdout",
     "output_type": "stream",
     "text": [
      "Epoch: #1\n",
      "Bert is not freezed\n",
      "Training results: \n",
      "Acc: 0.828, f1: 0.827\n",
      "Validation results: \n",
      "Acc: 0.802, f1: 0.799\n"
     ]
    }
   ],
   "source": [
    "from tqdm.auto import tqdm\n",
    "\n",
    "tqdm.pandas()\n",
    "\n",
    "best_acc, best_f1 = 0, 0\n",
    "path = './best_model.pt'\n",
    "if_freeze_bert = False\n",
    "\n",
    "for i in tqdm(range(num_of_epochs)):\n",
    "    print(\"Epoch: #{}\".format(i+1))\n",
    "\n",
    "    if i < 5:\n",
    "        if_freeze_bert = False\n",
    "        print(\"Bert is not freezed\")\n",
    "    else:\n",
    "        if_freeze_bert = True\n",
    "        print(\"Bert is freezed\")\n",
    "    \n",
    "    training_step(train_loader, model,optimizer, loss_fn, if_freeze_bert)\n",
    "    train_acc, train_f1 = validation_step(train_loader, model, loss_fn)\n",
    "    val_acc, val_f1 = validation_step(val_loader, model, loss_fn)\n",
    "    \n",
    "    print(\"Training results: \")\n",
    "    print(\"Acc: {:.3f}, f1: {:.3f}\".format(train_acc, train_f1))\n",
    "    \n",
    "    print(\"Validation results: \")\n",
    "    print(\"Acc: {:.3f}, f1: {:.3f}\".format(val_acc, val_f1))\n",
    "    \n",
    "    if val_acc > best_acc:\n",
    "        best_acc = val_acc    \n",
    "        torch.save(model, path)"
   ]
  },
  {
   "cell_type": "code",
   "execution_count": 24,
   "metadata": {},
   "outputs": [
    {
     "name": "stdout",
     "output_type": "stream",
     "text": [
      "Encodings are ready.\n",
      "Predictions are ready.\n",
      "Predictions are saved to submission.csv.\n"
     ]
    }
   ],
   "source": [
    "test_data = pd.read_csv('test.csv')\n",
    "sample_submission = pd.read_csv('sample_submission.csv')\n",
    "\n",
    "\n",
    "clean_test_texts = [clean_tweet(tweet) for tweet in test_data['text'].values.tolist()]\n",
    "test_encodings = tokenizer(clean_test_texts,\n",
    "                           truncation=True, padding=True,\n",
    "                           return_tensors='pt').to(device)\n",
    "\n",
    "print(\"Encodings are ready.\")\n",
    "\n",
    "\n",
    "\n",
    "model = torch.load(path)\n",
    "model.eval()\n",
    "with torch.no_grad():\n",
    "    predictions = model(tokens=test_encodings['input_ids'], attention_mask=test_encodings['attention_mask'])\n",
    "    \n",
    "binary_predictions = np.round(predictions.cpu().detach().numpy()).astype(int).flatten()\n",
    "    \n",
    "print(\"Predictions are ready.\")\n",
    "\n",
    "sample_submission['target'] = binary_predictions\n",
    "sample_submission.to_csv('submission.csv', index=False)\n",
    "print('Predictions are saved to submission.csv.')"
   ]
  }
 ],
 "metadata": {
  "kernelspec": {
   "display_name": "spt-code",
   "language": "python",
   "name": "python3"
  },
  "language_info": {
   "codemirror_mode": {
    "name": "ipython",
    "version": 3
   },
   "file_extension": ".py",
   "mimetype": "text/x-python",
   "name": "python",
   "nbconvert_exporter": "python",
   "pygments_lexer": "ipython3",
   "version": "3.11.3"
  }
 },
 "nbformat": 4,
 "nbformat_minor": 2
}
